{
 "cells": [
  {
   "cell_type": "code",
   "execution_count": 273,
   "metadata": {},
   "outputs": [],
   "source": [
    "from numpy import *\n",
    "from matplotlib.pyplot import *\n",
    "from sklearn.linear_model import LinearRegression\n",
    "L = LinearRegression()"
   ]
  },
  {
   "cell_type": "code",
   "execution_count": 274,
   "metadata": {},
   "outputs": [],
   "source": [
    "def do(n=1):\n",
    "    #Creating data\n",
    "    X = random.randn(100,5)\n",
    "    w = linspace(0.2,0.6,5)\n",
    "    Y = sum(w*X,axis=-1) + random.randn(100)\n",
    "    O = []\n",
    "    while len(O) < n:\n",
    "        r = random.randint(100)\n",
    "        if r not in O:\n",
    "            O.append(r)\n",
    "    for o in O:\n",
    "        Y[o] = sum(w * X[o]) + 10*random.randn()\n",
    "    print(\"Rank, Index, Error\")\n",
    "    E0 = []\n",
    "    for o in O :\n",
    "        L.fit(X[r_[0:o,o+1:100]],Y[r_[0:o,o+1:100]])\n",
    "        E0.extend(abs(L.predict([X[o]]) - Y[o]))\n",
    "    E0 = array(E0)\n",
    "    O = array(O)\n",
    "    s = E0.argsort()\n",
    "    E0 = E0[s]\n",
    "    O = O[s]\n",
    "    print(\"\\n Actual Outliners :\")\n",
    "    for i in range(n-1,-1,-1):\n",
    "        print(n-i,O[i],E0[i])\n",
    "    E = zeros(n)\n",
    "    ind = [0]*n\n",
    "    for i in range(100):\n",
    "        L.fit(X[r_[0:i,i+1:100]],Y[r_[0:i,i+1:100]])\n",
    "        e = abs(L.predict([X[i]]) - Y[i])\n",
    "        for j in range(n-1,-1,-1):\n",
    "            if e > E[j] :\n",
    "                for k in range(j):\n",
    "                    E[k] = E[k+1]\n",
    "                    ind[k] = ind[k+1]\n",
    "                E[j] = e\n",
    "                ind[j] = i\n",
    "                break\n",
    "    print(\"\\n Predicted :\")\n",
    "    for i in range(n-1,-1,-1):\n",
    "        print(n-i,ind[i],E[i])\n",
    "    print('\\n',100*sum(ind==O)/n,\"% were predicted correctly\")"
   ]
  },
  {
   "cell_type": "code",
   "execution_count": 275,
   "metadata": {},
   "outputs": [
    {
     "name": "stdout",
     "output_type": "stream",
     "text": [
      "Rank, Index, Error\n",
      "\n",
      " Actual Outliners :\n",
      "1 13 7.08595946391043\n",
      "\n",
      " Predicted :\n",
      "1 13 7.08595946391043\n",
      "\n",
      " 100.0 % were predicted correctly\n"
     ]
    }
   ],
   "source": [
    "do()"
   ]
  },
  {
   "cell_type": "code",
   "execution_count": 276,
   "metadata": {},
   "outputs": [
    {
     "name": "stdout",
     "output_type": "stream",
     "text": [
      "Rank, Index, Error\n",
      "\n",
      " Actual Outliners :\n",
      "1 3 11.076869512925828\n",
      "2 31 9.756089175431805\n",
      "3 47 3.176989169162955\n",
      "4 91 2.4397070171851567\n",
      "5 11 1.6308684362312615\n",
      "\n",
      " Predicted :\n",
      "1 3 11.076869512925828\n",
      "2 31 9.756089175431805\n",
      "3 47 3.176989169162955\n",
      "4 4 2.8991201924666097\n",
      "5 48 2.7462432621864727\n",
      "\n",
      " 60.0 % were predicted correctly\n"
     ]
    }
   ],
   "source": [
    "do(5)"
   ]
  }
 ],
 "metadata": {
  "kernelspec": {
   "display_name": "Python 3",
   "language": "python",
   "name": "python3"
  },
  "language_info": {
   "codemirror_mode": {
    "name": "ipython",
    "version": 3
   },
   "file_extension": ".py",
   "mimetype": "text/x-python",
   "name": "python",
   "nbconvert_exporter": "python",
   "pygments_lexer": "ipython3",
   "version": "3.10.6"
  },
  "orig_nbformat": 4
 },
 "nbformat": 4,
 "nbformat_minor": 2
}
