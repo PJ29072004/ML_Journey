{
 "cells": [
  {
   "attachments": {},
   "cell_type": "markdown",
   "metadata": {},
   "source": [
    "Initialization"
   ]
  },
  {
   "cell_type": "code",
   "execution_count": 58,
   "metadata": {},
   "outputs": [],
   "source": [
    "from numpy import *\n",
    "from sklearn.datasets import load_digits\n",
    "from sklearn.naive_bayes import GaussianNB\n",
    "G = GaussianNB()\n",
    "X,y = load_digits(return_X_y=True)\n",
    "correct = zeros(10)\n",
    "incorrect = zeros(10)"
   ]
  },
  {
   "attachments": {},
   "cell_type": "markdown",
   "metadata": {},
   "source": [
    "5 fold cross validation"
   ]
  },
  {
   "cell_type": "code",
   "execution_count": 59,
   "metadata": {},
   "outputs": [],
   "source": [
    "n = X.shape[0]\n",
    "for i in range(5):\n",
    "    s = (i*n)//5\n",
    "    X_train = X[r_[0:s,s+n//5:n]]\n",
    "    X_test = X[s:s+n//5]\n",
    "    y_train = sign(y[r_[0:s,s+n//5:n]])\n",
    "    y_test = y[s:s+n//5]\n",
    "    G.fit(X_train,y_train)\n",
    "    y_pred = G.predict(X_test)\n",
    "    for j in range(len(y_test)):\n",
    "        num = y_test[j]\n",
    "        if y_pred[j] == sign(num):\n",
    "            correct[num] += 1\n",
    "        else :\n",
    "            incorrect[num] += 1"
   ]
  },
  {
   "attachments": {},
   "cell_type": "markdown",
   "metadata": {},
   "source": [
    "Average error"
   ]
  },
  {
   "cell_type": "code",
   "execution_count": 60,
   "metadata": {},
   "outputs": [
    {
     "name": "stdout",
     "output_type": "stream",
     "text": [
      "number accuracy(%)\n",
      "  0     98.31\n",
      "  1     100.0\n",
      "  2     99.44\n",
      "  3     100.0\n",
      "  4     94.48\n",
      "  5     100.0\n",
      "  6     98.9\n",
      "  7     100.0\n",
      "  8     99.42\n",
      "  9     98.33\n"
     ]
    }
   ],
   "source": [
    "print(\"number accuracy(%)\")\n",
    "for i in range(10):\n",
    "    print(\" \",i,\"   \",round(100*(correct[i]/(incorrect[i]+correct[i])),2))"
   ]
  },
  {
   "attachments": {},
   "cell_type": "markdown",
   "metadata": {},
   "source": [
    "Thus we make the most error for digit 4."
   ]
  },
  {
   "attachments": {},
   "cell_type": "markdown",
   "metadata": {},
   "source": [
    "For total average error : "
   ]
  },
  {
   "cell_type": "code",
   "execution_count": 61,
   "metadata": {},
   "outputs": [
    {
     "name": "stdout",
     "output_type": "stream",
     "text": [
      "Total average error : 1.1142061281337048 %\n"
     ]
    }
   ],
   "source": [
    "correct = sum(correct)\n",
    "incorrect = sum(incorrect)\n",
    "print(\"Total average error :\",100*incorrect/(incorrect+correct),\"%\")"
   ]
  }
 ],
 "metadata": {
  "kernelspec": {
   "display_name": "Python 3",
   "language": "python",
   "name": "python3"
  },
  "language_info": {
   "codemirror_mode": {
    "name": "ipython",
    "version": 3
   },
   "file_extension": ".py",
   "mimetype": "text/x-python",
   "name": "python",
   "nbconvert_exporter": "python",
   "pygments_lexer": "ipython3",
   "version": "3.10.6"
  },
  "orig_nbformat": 4
 },
 "nbformat": 4,
 "nbformat_minor": 2
}
